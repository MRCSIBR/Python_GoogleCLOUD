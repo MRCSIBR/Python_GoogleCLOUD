{
 "cells": [
  {
   "cell_type": "markdown",
   "id": "85a1ccca",
   "metadata": {},
   "source": [
    "# Subir | Leer | Guardar en Bucket de GCP con Python"
   ]
  },
  {
   "cell_type": "code",
   "execution_count": null,
   "id": "f50ab3aa",
   "metadata": {
    "scrolled": true
   },
   "outputs": [],
   "source": [
    "#!pip install google-cloud-storage\n",
    "#!pip install google-api-python-client"
   ]
  },
  {
   "cell_type": "code",
   "execution_count": 1,
   "id": "5caf93f7",
   "metadata": {},
   "outputs": [],
   "source": [
    "try:\n",
    "    import json\n",
    "    import os\n",
    "    import sys\n",
    "    import google.cloud.storage\n",
    "    from google.cloud import storage\n",
    "    \n",
    "except Exception as e:\n",
    "    print(\"Error : {} \" .format(e))     "
   ]
  },
  {
   "cell_type": "markdown",
   "id": "f9ea69c6",
   "metadata": {},
   "source": [
    "En google cloud: Desde IAM --> ServiceAccount --> Crear ServiceAccount debemos crear una llave API, al hacer click en el icono de la derecha se puede bajar un .JSON con la api key"
   ]
  },
  {
   "cell_type": "code",
   "execution_count": 2,
   "id": "e7c99ff0",
   "metadata": {},
   "outputs": [],
   "source": [
    "PATH = os.path.join(os.getcwd(), 'insightfuldata-21f1673b196b.json')\n",
    "os.environ['GOOGLE_APPLICATION_CREDENTIALS'] = PATH"
   ]
  },
  {
   "cell_type": "markdown",
   "id": "bd983485",
   "metadata": {},
   "source": [
    "- Crear objeto cliente"
   ]
  },
  {
   "cell_type": "code",
   "execution_count": 3,
   "id": "33fa3dce",
   "metadata": {},
   "outputs": [],
   "source": [
    "storage_client = storage.Client(PATH)"
   ]
  },
  {
   "cell_type": "code",
   "execution_count": 4,
   "id": "2ee12288",
   "metadata": {},
   "outputs": [
    {
     "data": {
      "text/plain": [
       "<google.cloud.storage.client.Client at 0x7f32d1d78050>"
      ]
     },
     "execution_count": 4,
     "metadata": {},
     "output_type": "execute_result"
    }
   ],
   "source": [
    "storage_client"
   ]
  },
  {
   "cell_type": "markdown",
   "id": "6383edaa",
   "metadata": {},
   "source": [
    "## Obtener lista de  archivos del bucket de GCP 'Google Cloud'"
   ]
  },
  {
   "cell_type": "code",
   "execution_count": 5,
   "id": "4d80e504",
   "metadata": {},
   "outputs": [],
   "source": [
    "bucket = storage_client.get_bucket('market-data001')"
   ]
  },
  {
   "cell_type": "code",
   "execution_count": 6,
   "id": "12268add",
   "metadata": {},
   "outputs": [
    {
     "data": {
      "text/plain": [
       "['Fuentes.txt', 'VMBS.csv', 'VNQ.csv']"
      ]
     },
     "execution_count": 6,
     "metadata": {},
     "output_type": "execute_result"
    }
   ],
   "source": [
    "filename = [filename.name for filename in list(bucket.list_blobs(prefix=''))]\n",
    "filename"
   ]
  },
  {
   "cell_type": "markdown",
   "id": "d44ff156",
   "metadata": {},
   "source": [
    "## Descargar un archivo desde el bucket"
   ]
  },
  {
   "cell_type": "code",
   "execution_count": 18,
   "id": "86cd520e",
   "metadata": {},
   "outputs": [],
   "source": [
    "blop = bucket.blob(blob_name = 'VNQ.csv').download_as_string()"
   ]
  },
  {
   "cell_type": "code",
   "execution_count": 20,
   "id": "f56f941f",
   "metadata": {},
   "outputs": [],
   "source": [
    "with open ('preciosVNQ.csv', \"wb\") as f:\n",
    "        f.write(blop)"
   ]
  },
  {
   "cell_type": "markdown",
   "id": "6094f385",
   "metadata": {},
   "source": [
    "## Subir un archivo al bucket de GCP"
   ]
  },
  {
   "cell_type": "code",
   "execution_count": 21,
   "id": "c60035b6",
   "metadata": {},
   "outputs": [],
   "source": [
    "filename = 'foo.csv'"
   ]
  },
  {
   "cell_type": "code",
   "execution_count": 22,
   "id": "5004e686",
   "metadata": {},
   "outputs": [],
   "source": [
    "UPLOADFILE = os.path.join(os.getcwd(), filename)"
   ]
  },
  {
   "cell_type": "code",
   "execution_count": 23,
   "id": "b2090121",
   "metadata": {},
   "outputs": [],
   "source": [
    "bucket = storage_client.get_bucket('market-data001')\n",
    "blob = bucket.blob(filename)\n",
    "blob.upload_from_filename(UPLOADFILE)"
   ]
  },
  {
   "cell_type": "markdown",
   "id": "c267101c",
   "metadata": {},
   "source": [
    "## Leer un .CSV directamente desde el bucket GCP"
   ]
  },
  {
   "cell_type": "code",
   "execution_count": 24,
   "id": "300694d5",
   "metadata": {},
   "outputs": [],
   "source": [
    "import pandas as pd\n",
    "import io\n",
    "from io import BytesIO"
   ]
  },
  {
   "cell_type": "code",
   "execution_count": 32,
   "id": "0bbe357d",
   "metadata": {},
   "outputs": [],
   "source": [
    "df = pd.read_csv(\n",
    "    io.BytesIO(\n",
    "                bucket.blob(blob_name = 'VNQ.csv').download_as_string()\n",
    "               ) ,\n",
    "                  encoding='UTF-8',\n",
    "                  sep=',')  "
   ]
  },
  {
   "cell_type": "code",
   "execution_count": 33,
   "id": "8641afac",
   "metadata": {},
   "outputs": [
    {
     "data": {
      "text/html": [
       "<div>\n",
       "<style scoped>\n",
       "    .dataframe tbody tr th:only-of-type {\n",
       "        vertical-align: middle;\n",
       "    }\n",
       "\n",
       "    .dataframe tbody tr th {\n",
       "        vertical-align: top;\n",
       "    }\n",
       "\n",
       "    .dataframe thead th {\n",
       "        text-align: right;\n",
       "    }\n",
       "</style>\n",
       "<table border=\"1\" class=\"dataframe\">\n",
       "  <thead>\n",
       "    <tr style=\"text-align: right;\">\n",
       "      <th></th>\n",
       "      <th>Date</th>\n",
       "      <th>Open</th>\n",
       "      <th>High</th>\n",
       "      <th>Low</th>\n",
       "      <th>Close</th>\n",
       "      <th>Adj Close</th>\n",
       "      <th>Volume</th>\n",
       "    </tr>\n",
       "  </thead>\n",
       "  <tbody>\n",
       "    <tr>\n",
       "      <th>0</th>\n",
       "      <td>2009-12-14</td>\n",
       "      <td>43.73</td>\n",
       "      <td>44.43</td>\n",
       "      <td>43.240002</td>\n",
       "      <td>44.34</td>\n",
       "      <td>25.58551</td>\n",
       "      <td>3169900</td>\n",
       "    </tr>\n",
       "  </tbody>\n",
       "</table>\n",
       "</div>"
      ],
      "text/plain": [
       "         Date   Open   High        Low  Close  Adj Close   Volume\n",
       "0  2009-12-14  43.73  44.43  43.240002  44.34   25.58551  3169900"
      ]
     },
     "execution_count": 33,
     "metadata": {},
     "output_type": "execute_result"
    }
   ],
   "source": [
    "df.head(1)"
   ]
  }
 ],
 "metadata": {
  "kernelspec": {
   "display_name": "Python 3",
   "language": "python",
   "name": "python3"
  },
  "language_info": {
   "codemirror_mode": {
    "name": "ipython",
    "version": 3
   },
   "file_extension": ".py",
   "mimetype": "text/x-python",
   "name": "python",
   "nbconvert_exporter": "python",
   "pygments_lexer": "ipython3",
   "version": "3.11.4"
  }
 },
 "nbformat": 4,
 "nbformat_minor": 5
}

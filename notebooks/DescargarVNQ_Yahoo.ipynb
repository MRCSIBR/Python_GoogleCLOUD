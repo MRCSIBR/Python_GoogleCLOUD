{
 "cells": [
  {
   "cell_type": "markdown",
   "id": "599c5fe5",
   "metadata": {},
   "source": [
    "# Bajar precios desde Yahoo finance\n",
    "\n",
    "Vanguard Real State ETF\n",
    "https://finance.yahoo.com/quote/VNQ/chart?p=VNQ\n",
    "\n",
    "## Requerimientos   \n",
    "   \n",
    "    !pip install yfinance\n",
    "    !pip install yahoofinancials"
   ]
  },
  {
   "cell_type": "code",
   "execution_count": 36,
   "id": "0cbf50d6",
   "metadata": {},
   "outputs": [],
   "source": [
    "import pandas as pd\n",
    "import yfinance as yf\n",
    "from yahoofinancials import YahooFinancials\n",
    "import datetime"
   ]
  },
  {
   "cell_type": "code",
   "execution_count": 37,
   "id": "00538da6",
   "metadata": {},
   "outputs": [],
   "source": [
    "# Tomar el dia actual como fecha de fin\n",
    "end_date = datetime.datetime.today()\n",
    "\n",
    "vnq_df = yf.download('VNQ',start='2013-01-01' ,end = end_date, progress=False)"
   ]
  },
  {
   "cell_type": "code",
   "execution_count": 38,
   "id": "08fb18bb",
   "metadata": {},
   "outputs": [
    {
     "data": {
      "text/html": [
       "<div>\n",
       "<style scoped>\n",
       "    .dataframe tbody tr th:only-of-type {\n",
       "        vertical-align: middle;\n",
       "    }\n",
       "\n",
       "    .dataframe tbody tr th {\n",
       "        vertical-align: top;\n",
       "    }\n",
       "\n",
       "    .dataframe thead th {\n",
       "        text-align: right;\n",
       "    }\n",
       "</style>\n",
       "<table border=\"1\" class=\"dataframe\">\n",
       "  <thead>\n",
       "    <tr style=\"text-align: right;\">\n",
       "      <th></th>\n",
       "      <th>Open</th>\n",
       "      <th>High</th>\n",
       "      <th>Low</th>\n",
       "      <th>Close</th>\n",
       "      <th>Adj Close</th>\n",
       "      <th>Volume</th>\n",
       "    </tr>\n",
       "    <tr>\n",
       "      <th>Date</th>\n",
       "      <th></th>\n",
       "      <th></th>\n",
       "      <th></th>\n",
       "      <th></th>\n",
       "      <th></th>\n",
       "      <th></th>\n",
       "    </tr>\n",
       "  </thead>\n",
       "  <tbody>\n",
       "    <tr>\n",
       "      <th>2023-09-19</th>\n",
       "      <td>80.940002</td>\n",
       "      <td>81.309998</td>\n",
       "      <td>80.480003</td>\n",
       "      <td>80.709999</td>\n",
       "      <td>79.932320</td>\n",
       "      <td>2742500</td>\n",
       "    </tr>\n",
       "    <tr>\n",
       "      <th>2023-09-20</th>\n",
       "      <td>81.370003</td>\n",
       "      <td>81.779999</td>\n",
       "      <td>80.769997</td>\n",
       "      <td>80.779999</td>\n",
       "      <td>80.001640</td>\n",
       "      <td>3827800</td>\n",
       "    </tr>\n",
       "    <tr>\n",
       "      <th>2023-09-21</th>\n",
       "      <td>80.180000</td>\n",
       "      <td>80.300003</td>\n",
       "      <td>78.000000</td>\n",
       "      <td>78.029999</td>\n",
       "      <td>77.278137</td>\n",
       "      <td>6202200</td>\n",
       "    </tr>\n",
       "    <tr>\n",
       "      <th>2023-09-22</th>\n",
       "      <td>78.059998</td>\n",
       "      <td>78.489998</td>\n",
       "      <td>77.379997</td>\n",
       "      <td>77.440002</td>\n",
       "      <td>76.693832</td>\n",
       "      <td>5061200</td>\n",
       "    </tr>\n",
       "    <tr>\n",
       "      <th>2023-09-25</th>\n",
       "      <td>77.129997</td>\n",
       "      <td>77.440002</td>\n",
       "      <td>76.790001</td>\n",
       "      <td>77.370003</td>\n",
       "      <td>76.624504</td>\n",
       "      <td>3928200</td>\n",
       "    </tr>\n",
       "    <tr>\n",
       "      <th>2023-09-26</th>\n",
       "      <td>76.910004</td>\n",
       "      <td>77.070000</td>\n",
       "      <td>75.690002</td>\n",
       "      <td>75.959999</td>\n",
       "      <td>75.228088</td>\n",
       "      <td>5220800</td>\n",
       "    </tr>\n",
       "    <tr>\n",
       "      <th>2023-09-27</th>\n",
       "      <td>76.230003</td>\n",
       "      <td>76.650002</td>\n",
       "      <td>75.050003</td>\n",
       "      <td>75.449997</td>\n",
       "      <td>74.723000</td>\n",
       "      <td>6657600</td>\n",
       "    </tr>\n",
       "    <tr>\n",
       "      <th>2023-09-28</th>\n",
       "      <td>75.000000</td>\n",
       "      <td>75.750000</td>\n",
       "      <td>74.849998</td>\n",
       "      <td>75.440002</td>\n",
       "      <td>75.440002</td>\n",
       "      <td>6659600</td>\n",
       "    </tr>\n",
       "    <tr>\n",
       "      <th>2023-09-29</th>\n",
       "      <td>76.440002</td>\n",
       "      <td>76.769997</td>\n",
       "      <td>75.220001</td>\n",
       "      <td>75.660004</td>\n",
       "      <td>75.660004</td>\n",
       "      <td>6630100</td>\n",
       "    </tr>\n",
       "    <tr>\n",
       "      <th>2023-10-02</th>\n",
       "      <td>75.410004</td>\n",
       "      <td>75.699997</td>\n",
       "      <td>73.800003</td>\n",
       "      <td>74.269997</td>\n",
       "      <td>74.269997</td>\n",
       "      <td>7563874</td>\n",
       "    </tr>\n",
       "  </tbody>\n",
       "</table>\n",
       "</div>"
      ],
      "text/plain": [
       "                 Open       High        Low      Close  Adj Close   Volume\n",
       "Date                                                                      \n",
       "2023-09-19  80.940002  81.309998  80.480003  80.709999  79.932320  2742500\n",
       "2023-09-20  81.370003  81.779999  80.769997  80.779999  80.001640  3827800\n",
       "2023-09-21  80.180000  80.300003  78.000000  78.029999  77.278137  6202200\n",
       "2023-09-22  78.059998  78.489998  77.379997  77.440002  76.693832  5061200\n",
       "2023-09-25  77.129997  77.440002  76.790001  77.370003  76.624504  3928200\n",
       "2023-09-26  76.910004  77.070000  75.690002  75.959999  75.228088  5220800\n",
       "2023-09-27  76.230003  76.650002  75.050003  75.449997  74.723000  6657600\n",
       "2023-09-28  75.000000  75.750000  74.849998  75.440002  75.440002  6659600\n",
       "2023-09-29  76.440002  76.769997  75.220001  75.660004  75.660004  6630100\n",
       "2023-10-02  75.410004  75.699997  73.800003  74.269997  74.269997  7563874"
      ]
     },
     "execution_count": 38,
     "metadata": {},
     "output_type": "execute_result"
    }
   ],
   "source": [
    "vnq_df.tail(10)"
   ]
  },
  {
   "cell_type": "markdown",
   "id": "7e815d54",
   "metadata": {},
   "source": [
    "## Guardar el dataframe a .CSV"
   ]
  },
  {
   "cell_type": "code",
   "execution_count": 39,
   "id": "2f049eb2",
   "metadata": {},
   "outputs": [],
   "source": [
    "vnq_df.to_csv(\"vnq_data.csv\")"
   ]
  },
  {
   "cell_type": "markdown",
   "id": "2c62ac6f",
   "metadata": {},
   "source": [
    "TODO: Subir a google cloud con Storage API o gsutil, podemos usar cronjobs"
   ]
  },
  {
   "cell_type": "markdown",
   "id": "4d52f6ac",
   "metadata": {},
   "source": [
    "## Redfin Scraper"
   ]
  },
  {
   "cell_type": "markdown",
   "id": "a5f21ee0",
   "metadata": {},
   "source": [
    "# !pip install redfin-scraper\n",
    "\n",
    "    from redfin_scraper import RedfinScraper\n",
    "\n",
    "    scraper = RedfinScraper()\n",
    "    properties = scraper.get_properties(city='San Francisco', state='CA', limit=100)"
   ]
  },
  {
   "cell_type": "code",
   "execution_count": null,
   "id": "23f9edb3",
   "metadata": {},
   "outputs": [],
   "source": []
  }
 ],
 "metadata": {
  "kernelspec": {
   "display_name": "Python 3",
   "language": "python",
   "name": "python3"
  },
  "language_info": {
   "codemirror_mode": {
    "name": "ipython",
    "version": 3
   },
   "file_extension": ".py",
   "mimetype": "text/x-python",
   "name": "python",
   "nbconvert_exporter": "python",
   "pygments_lexer": "ipython3",
   "version": "3.11.4"
  }
 },
 "nbformat": 4,
 "nbformat_minor": 5
}
